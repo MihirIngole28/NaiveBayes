{
 "cells": [
  {
   "cell_type": "markdown",
   "id": "2c9a1711",
   "metadata": {},
   "source": [
    "# Hypotheses testing for accuracy comparison of Naive Bayes algorithm in Python and Weka"
   ]
  },
  {
   "cell_type": "markdown",
   "id": "687cd8d3",
   "metadata": {},
   "source": [
    "### The hypotheses testing comprises of 2 samples. Sample 1 is the resulting accuracy from the 10 folds of Naive Bayes implemented in python and sample 2 is obtained from the 10 folds in Weka.\n",
    "\n",
    "### Sample 1 contains the label encoded results of each dataset.\n",
    "\n",
    "### Since the option to obtain the accuracy of each fold is not readily available in Weka, the accuracies presented below are obtained by setting the training-test split to 90-10% and varying the seed value from 1 through 10."
   ]
  },
  {
   "cell_type": "markdown",
   "id": "aa6b005d",
   "metadata": {},
   "source": [
    "https://www.statology.org/hypothesis-test-python/"
   ]
  },
  {
   "cell_type": "markdown",
   "id": "680107c6",
   "metadata": {},
   "source": [
    "# Breast Cancer Dataset"
   ]
  },
  {
   "cell_type": "code",
   "execution_count": 1,
   "id": "026c8bd4",
   "metadata": {},
   "outputs": [
    {
     "name": "stdout",
     "output_type": "stream",
     "text": [
      "Both the methods perform differently with classifier in python performing better than weka.\n"
     ]
    }
   ],
   "source": [
    "import scipy.stats as stats \n",
    "\n",
    "#define array of turtle weights for each sample\n",
    "sample1 = [75.0, 78.57142857142857, 60.71428571428571, 67.85714285714286, 75.0, 92.85714285714286, 89.28571428571429, 78.57142857142857, 82.14285714285714, 75.0]\n",
    "sample2 = [82.7586,65.5172,68.9655,79.3103,72.4138,72.4138,65.5172,75.8621,79.3103,68.9655]\n",
    "\n",
    "#perform two sample t-test\n",
    "stat, p_val = stats.ttest_ind(a=sample1, b=sample2)\n",
    "\n",
    "mean1 = sum(sample1)/len(sample1)\n",
    "mean2 = sum(sample2)/len(sample2)\n",
    "\n",
    "if p_val < 0.05:\n",
    "    print('The performance metrics of both the methods is same')\n",
    "else:\n",
    "    if mean1 > mean2:\n",
    "        print(f'Both the methods perform differently with classifier in python performing better than weka.')\n",
    "    else:\n",
    "        print(f'Both the methods perform differently with classifier in weka performing better than python.')\n",
    "    "
   ]
  },
  {
   "cell_type": "markdown",
   "id": "efee8224",
   "metadata": {},
   "source": [
    "# Hayes-Roth Dataset"
   ]
  },
  {
   "cell_type": "code",
   "execution_count": 2,
   "id": "5ad86091",
   "metadata": {},
   "outputs": [
    {
     "name": "stdout",
     "output_type": "stream",
     "text": [
      "Both the methods perform differently with classifier in weka performing better than python.\n"
     ]
    }
   ],
   "source": [
    "import scipy.stats as stats \n",
    "\n",
    "#define array of turtle weights for each sample\n",
    "sample1 = [46.15384615384615, 69.23076923076923, 69.23076923076923, 100.0, 61.53846153846154, 84.61538461538461, 53.84615384615385, 53.84615384615385, 69.23076923076923, 61.53846153846154]\n",
    "sample2 = [76.9231,69.2308,92.3077,76.9231,92.3077,46.1538,69.2308,92.3077,69.2308,76.9231]\n",
    "\n",
    "#perform two sample t-test\n",
    "stat, p_val = stats.ttest_ind(a=sample1, b=sample2)\n",
    "\n",
    "mean1 = sum(sample1)/len(sample1)\n",
    "mean2 = sum(sample2)/len(sample2)\n",
    "\n",
    "if p_val < 0.05:\n",
    "    print('The performance metrics of both the methods is same')\n",
    "else:\n",
    "    if mean1 > mean2:\n",
    "        print(f'Both the methods perform differently with classifier in python performing better than weka.')\n",
    "    else:\n",
    "        print(f'Both the methods perform differently with classifier in weka performing better than python.')\n",
    "    "
   ]
  },
  {
   "cell_type": "markdown",
   "id": "c1836d35",
   "metadata": {},
   "source": [
    "# Car-Evaluation Dataset"
   ]
  },
  {
   "cell_type": "code",
   "execution_count": 3,
   "id": "381e3ef5",
   "metadata": {},
   "outputs": [
    {
     "name": "stdout",
     "output_type": "stream",
     "text": [
      "The performance metrics of both the methods is same\n"
     ]
    }
   ],
   "source": [
    "import scipy.stats as stats \n",
    "\n",
    "#define array of turtle weights for each sample\n",
    "sample1 = [76.16279069767442, 72.09302325581395, 73.25581395348837, 72.67441860465115, 75.0, 75.0, 71.51162790697676, 79.65116279069767, 73.83720930232558, 74.4186046511628]\n",
    "sample2 = [84.3931,80.9249,87.8613,85.5491,82.659,84.9711,86.7052,89.0173,80.9249,83.237]\n",
    "\n",
    "#perform two sample t-test\n",
    "stat, p_val = stats.ttest_ind(a=sample1, b=sample2)\n",
    "\n",
    "mean1 = sum(sample1)/len(sample1)\n",
    "mean2 = sum(sample2)/len(sample2)\n",
    "\n",
    "if p_val < 0.05:\n",
    "    print('The performance metrics of both the methods is same')\n",
    "else:\n",
    "    if mean1 > mean2:\n",
    "        print(f'Both the methods perform differently with classifier in python performing better than weka.')\n",
    "    else:\n",
    "        print(f'Both the methods perform differently with classifier in weka performing better than python.')\n",
    "    "
   ]
  }
 ],
 "metadata": {
  "kernelspec": {
   "display_name": "Python 3 (ipykernel)",
   "language": "python",
   "name": "python3"
  },
  "language_info": {
   "codemirror_mode": {
    "name": "ipython",
    "version": 3
   },
   "file_extension": ".py",
   "mimetype": "text/x-python",
   "name": "python",
   "nbconvert_exporter": "python",
   "pygments_lexer": "ipython3",
   "version": "3.10.0"
  }
 },
 "nbformat": 4,
 "nbformat_minor": 5
}
